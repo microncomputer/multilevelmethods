{
 "cells": [
  {
   "cell_type": "code",
   "execution_count": 1,
   "metadata": {
    "collapsed": true,
    "ExecuteTime": {
     "start_time": "2023-06-06T14:10:23.115140Z",
     "end_time": "2023-06-06T14:10:24.005114Z"
    }
   },
   "outputs": [],
   "source": [
    "import numpy as np\n",
    "from scipy.sparse import csr_matrix, coo_matrix, triu, tril, hstack\n",
    "import graphrelations as gr\n",
    "from iterativemethods import *\n",
    "from aggregation_coarsening import *\n",
    "from multilevelmethod import *\n"
   ]
  },
  {
   "cell_type": "code",
   "execution_count": 2,
   "outputs": [],
   "source": [
    "testmat = np.zeros((8,8))\n",
    "is_edge = [(1,5),(2,4), (2,8), (3,5),(4,2), (4,6), (5,1), (5,3), (5,6), (5,7), (6,4), (6,5), (6,8), (7,5), (8,2), (8,6)]\n",
    "for i,j in is_edge:\n",
    "    testmat[i-1,j-1] = 1\n",
    "testmat = coo_matrix(testmat)\n",
    "ev = gr.EV(testmat)\n",
    "ee = gr.EE(ev)"
   ],
   "metadata": {
    "collapsed": false,
    "ExecuteTime": {
     "start_time": "2023-06-06T14:10:24.019029Z",
     "end_time": "2023-06-06T14:10:24.090602Z"
    }
   }
  },
  {
   "cell_type": "code",
   "execution_count": 3,
   "outputs": [],
   "source": [
    "# testweights = [0.1,5.0,1.2,3.0,1.75,2.0,4.0,3.0]"
   ],
   "metadata": {
    "collapsed": false,
    "ExecuteTime": {
     "start_time": "2023-06-06T14:10:24.056709Z",
     "end_time": "2023-06-06T14:10:24.092371Z"
    }
   }
  },
  {
   "cell_type": "code",
   "execution_count": 4,
   "outputs": [],
   "source": [
    "weights = edge_modularity_weights(testmat)\n",
    "max_edges = luby(ee, weights)\n",
    "P = vert_agg(max_edges, ev)"
   ],
   "metadata": {
    "collapsed": false,
    "ExecuteTime": {
     "start_time": "2023-06-06T14:10:24.087342Z",
     "end_time": "2023-06-06T14:10:24.113623Z"
    }
   }
  },
  {
   "cell_type": "code",
   "execution_count": 5,
   "outputs": [
    {
     "name": "stdout",
     "output_type": "stream",
     "text": [
      "[[1 0 0 0 0 0]\n",
      " [0 1 0 0 0 0]\n",
      " [0 0 1 0 0 0]\n",
      " [0 1 0 0 0 0]\n",
      " [1 0 0 0 0 0]\n",
      " [0 0 0 1 0 0]\n",
      " [0 0 0 0 1 0]\n",
      " [0 0 0 0 0 1]]\n"
     ]
    }
   ],
   "source": [
    "print(P.toarray())"
   ],
   "metadata": {
    "collapsed": false,
    "ExecuteTime": {
     "start_time": "2023-06-06T14:10:24.120622Z",
     "end_time": "2023-06-06T14:10:24.195091Z"
    }
   }
  },
  {
   "cell_type": "code",
   "execution_count": 6,
   "outputs": [
    {
     "name": "stdout",
     "output_type": "stream",
     "text": [
      "[[2. 0. 1. 1. 1. 0.]\n",
      " [0. 2. 0. 1. 0. 1.]\n",
      " [1. 0. 0. 0. 0. 0.]\n",
      " [1. 1. 0. 0. 0. 1.]\n",
      " [1. 0. 0. 0. 0. 0.]\n",
      " [0. 1. 0. 1. 0. 0.]]\n"
     ]
    }
   ],
   "source": [
    "AC_1 = P.T @ testmat @ P\n",
    "print(AC_1.toarray())\n",
    "#this is where you check if cfactor is reached. for cfactor = 1.5, we can do one more step\n",
    "# if 8/1.5=5.3333 >= numverts in AC_n, stop."
   ],
   "metadata": {
    "collapsed": false,
    "ExecuteTime": {
     "start_time": "2023-06-06T14:10:24.173705Z",
     "end_time": "2023-06-06T14:10:24.233517Z"
    }
   }
  },
  {
   "cell_type": "code",
   "execution_count": 7,
   "outputs": [
    {
     "name": "stdout",
     "output_type": "stream",
     "text": [
      "[[ 0. -2.  1.  1.  1.  0.]\n",
      " [-2.  0.  0.  1.  0.  1.]\n",
      " [-1. -2.  0.  0.  0.  0.]\n",
      " [-1. -1.  0.  0.  0.  1.]\n",
      " [-1. -2.  0.  0.  0.  0.]\n",
      " [-2. -1.  0.  1.  0.  0.]]\n"
     ]
    }
   ],
   "source": [
    "lala = coo(AC_1 - AC_1.diagonal())\n",
    "print(lala.toarray())"
   ],
   "metadata": {
    "collapsed": false,
    "ExecuteTime": {
     "start_time": "2023-06-06T14:10:24.205382Z",
     "end_time": "2023-06-06T14:10:24.430103Z"
    }
   }
  },
  {
   "cell_type": "code",
   "execution_count": 8,
   "outputs": [
    {
     "name": "stdout",
     "output_type": "stream",
     "text": [
      "[[1 0 1 0 0 0]\n",
      " [0 1 0 1 0 0]\n",
      " [1 0 0 1 0 0]\n",
      " [1 0 0 0 1 0]\n",
      " [0 1 0 0 0 1]\n",
      " [0 0 0 1 0 1]]\n"
     ]
    }
   ],
   "source": [
    "ev2 = gr.EV(AC_1)\n",
    "print(ev2.toarray())"
   ],
   "metadata": {
    "collapsed": false,
    "ExecuteTime": {
     "start_time": "2023-06-06T14:10:24.245501Z",
     "end_time": "2023-06-06T14:10:24.432435Z"
    }
   }
  },
  {
   "cell_type": "code",
   "execution_count": 9,
   "outputs": [
    {
     "name": "stdout",
     "output_type": "stream",
     "text": [
      "[[0 0 1 1 0 0]\n",
      " [0 0 1 0 1 1]\n",
      " [1 1 0 1 0 1]\n",
      " [1 0 1 0 0 0]\n",
      " [0 1 0 0 0 1]\n",
      " [0 1 1 0 1 0]]\n",
      "[[ 0.4375 -1.25    0.6875  0.0625  0.6875 -0.625 ]\n",
      " [-1.25    1.     -0.25    0.25   -0.25    0.5   ]\n",
      " [ 0.6875 -0.25   -0.0625 -0.1875 -0.0625 -0.125 ]\n",
      " [ 0.0625  0.25   -0.1875 -0.5625 -0.1875  0.625 ]\n",
      " [ 0.6875 -0.25   -0.0625 -0.1875 -0.0625 -0.125 ]\n",
      " [-0.625   0.5    -0.125   0.625  -0.125  -0.25  ]]\n"
     ]
    }
   ],
   "source": [
    "ev2 = gr.EV(AC_1)\n",
    "ee2 = gr.EE(ev2)\n",
    "md = mod_mat_inefficient(AC_1)\n",
    "print(ee2.toarray())\n",
    "print(md)"
   ],
   "metadata": {
    "collapsed": false,
    "ExecuteTime": {
     "start_time": "2023-06-06T14:10:24.288756Z",
     "end_time": "2023-06-06T14:10:24.545025Z"
    }
   }
  },
  {
   "cell_type": "code",
   "execution_count": 10,
   "outputs": [
    {
     "name": "stdout",
     "output_type": "stream",
     "text": [
      "[1. 1. 1. 2. 1. 2. 1. 1. 1. 1. 1. 1. 1. 1.]\n",
      "[[0 0 1 1 0 0]\n",
      " [0 0 1 0 1 1]\n",
      " [1 1 0 1 0 1]\n",
      " [1 0 1 0 0 0]\n",
      " [0 1 0 0 0 1]\n",
      " [0 1 1 0 1 0]]\n",
      "[0.6875 0.25   0.0625 0.6875 0.5    0.625 ]\n",
      "[[1 0 0 0 0]\n",
      " [0 1 0 0 0]\n",
      " [1 0 0 0 0]\n",
      " [0 0 1 0 0]\n",
      " [0 0 0 1 0]\n",
      " [0 0 0 0 1]]\n"
     ]
    }
   ],
   "source": [
    "weights2 = edge_modularity_weights(AC_1)\n",
    "print(AC_1.data)\n",
    "print(ee2.toarray())\n",
    "print(weights2)\n",
    "max_edges2 = luby(ee2, weights2)\n",
    "P2 = vert_agg(max_edges2, ev2)\n",
    "print(P2.toarray())"
   ],
   "metadata": {
    "collapsed": false,
    "ExecuteTime": {
     "start_time": "2023-06-06T14:10:24.352219Z",
     "end_time": "2023-06-06T14:10:24.547484Z"
    }
   }
  },
  {
   "cell_type": "code",
   "execution_count": 11,
   "outputs": [
    {
     "name": "stdout",
     "output_type": "stream",
     "text": [
      "[[4. 0. 1. 1. 0.]\n",
      " [0. 2. 1. 0. 1.]\n",
      " [1. 1. 0. 0. 1.]\n",
      " [1. 0. 0. 0. 0.]\n",
      " [0. 1. 1. 0. 0.]]\n"
     ]
    }
   ],
   "source": [
    "AC_2 = P2.T @AC_1 @P2\n",
    "print(AC_2.toarray())\n",
    "#now cfactor is reached, stop and compose the P's"
   ],
   "metadata": {
    "collapsed": false,
    "ExecuteTime": {
     "start_time": "2023-06-06T14:10:24.373133Z",
     "end_time": "2023-06-06T14:10:24.549212Z"
    }
   }
  },
  {
   "cell_type": "code",
   "execution_count": 12,
   "outputs": [
    {
     "name": "stdout",
     "output_type": "stream",
     "text": [
      "[[1 0 0 0 0]\n",
      " [0 1 0 0 0]\n",
      " [1 0 0 0 0]\n",
      " [0 1 0 0 0]\n",
      " [1 0 0 0 0]\n",
      " [0 0 1 0 0]\n",
      " [0 0 0 1 0]\n",
      " [0 0 0 0 1]]\n",
      "[[4. 0. 1. 1. 0.]\n",
      " [0. 2. 1. 0. 1.]\n",
      " [1. 1. 0. 0. 1.]\n",
      " [1. 0. 0. 0. 0.]\n",
      " [0. 1. 1. 0. 0.]]\n"
     ]
    }
   ],
   "source": [
    "Pc = P @ P2\n",
    "print(Pc.toarray())\n",
    "AC_final = Pc.T @ testmat @ Pc\n",
    "print(AC_final.toarray())"
   ],
   "metadata": {
    "collapsed": false,
    "ExecuteTime": {
     "start_time": "2023-06-06T14:10:24.406636Z",
     "end_time": "2023-06-06T14:10:24.570422Z"
    }
   }
  },
  {
   "cell_type": "code",
   "execution_count": 13,
   "outputs": [],
   "source": [
    "q = P_coarse(testmat, 1.5, modularity_weights=True)"
   ],
   "metadata": {
    "collapsed": false,
    "ExecuteTime": {
     "start_time": "2023-06-06T14:10:24.448464Z",
     "end_time": "2023-06-06T14:10:24.848703Z"
    }
   }
  },
  {
   "cell_type": "code",
   "execution_count": 14,
   "outputs": [
    {
     "name": "stdout",
     "output_type": "stream",
     "text": [
      "[[1. 0. 0. 0. 0.]\n",
      " [0. 1. 0. 0. 0.]\n",
      " [1. 0. 0. 0. 0.]\n",
      " [0. 1. 0. 0. 0.]\n",
      " [1. 0. 0. 0. 0.]\n",
      " [0. 0. 1. 0. 0.]\n",
      " [0. 0. 0. 1. 0.]\n",
      " [0. 0. 0. 0. 1.]]\n",
      "[[4. 0. 1. 1. 0.]\n",
      " [0. 2. 1. 0. 1.]\n",
      " [1. 1. 0. 0. 1.]\n",
      " [1. 0. 0. 0. 0.]\n",
      " [0. 1. 1. 0. 0.]]\n"
     ]
    }
   ],
   "source": [
    "print(q[0].toarray())\n",
    "print(q[1].toarray())\n"
   ],
   "metadata": {
    "collapsed": false,
    "ExecuteTime": {
     "start_time": "2023-06-06T14:10:24.508892Z",
     "end_time": "2023-06-06T14:10:24.849704Z"
    }
   }
  },
  {
   "cell_type": "code",
   "execution_count": 17,
   "outputs": [
    {
     "name": "stdout",
     "output_type": "stream",
     "text": [
      "[-1. -1. -1. -1. -1. -1.]\n"
     ]
    }
   ],
   "source": [
    "w_la = edge_modularity_weights(mod_la)"
   ],
   "metadata": {
    "collapsed": false,
    "ExecuteTime": {
     "start_time": "2023-06-06T14:10:24.651986Z",
     "end_time": "2023-06-06T14:10:24.852518Z"
    }
   }
  },
  {
   "cell_type": "code",
   "execution_count": 18,
   "outputs": [],
   "source": [
    "P_coarse_LA, A_coarse_LA = P_coarse(mod_la, modularity_weights=True)"
   ],
   "metadata": {
    "collapsed": false,
    "ExecuteTime": {
     "start_time": "2023-06-06T14:10:24.689104Z",
     "end_time": "2023-06-06T14:10:24.852518Z"
    }
   }
  },
  {
   "cell_type": "code",
   "execution_count": 19,
   "outputs": [
    {
     "name": "stdout",
     "output_type": "stream",
     "text": [
      "[[1. 0. 0. 0. 0. 0.]\n",
      " [0. 1. 0. 0. 0. 0.]\n",
      " [0. 0. 1. 0. 0. 0.]\n",
      " [0. 1. 0. 0. 0. 0.]\n",
      " [1. 0. 0. 0. 0. 0.]\n",
      " [0. 0. 0. 1. 0. 0.]\n",
      " [0. 0. 0. 0. 1. 0.]\n",
      " [0. 0. 0. 0. 0. 1.]]\n",
      "[[ 3.  0. -1. -1. -1.  0.]\n",
      " [ 0.  2.  0. -1.  0.  0.]\n",
      " [-1.  0.  1.  0.  0.  0.]\n",
      " [-1. -1.  0.  3.  0.  0.]\n",
      " [-1.  0.  0.  0.  1.  0.]\n",
      " [ 0.  0.  0.  0.  0.  2.]]\n"
     ]
    }
   ],
   "source": [
    "print(P_coarse_LA.toarray())\n",
    "print(A_coarse_LA.toarray())"
   ],
   "metadata": {
    "collapsed": false,
    "ExecuteTime": {
     "start_time": "2023-06-06T14:10:24.728102Z",
     "end_time": "2023-06-06T14:10:24.853617Z"
    }
   }
  },
  {
   "cell_type": "code",
   "execution_count": 22,
   "outputs": [
    {
     "name": "stdout",
     "output_type": "stream",
     "text": [
      "0.8964456940287685\n",
      "0.6484832113812992\n",
      "[3.31933204 0.66298717 4.07407825 1.23061722 3.12109682 1.5783035\n",
      " 3.51974366 0.29702732]\n"
     ]
    }
   ],
   "source": [
    "\"\"\"\n",
    "here's where I will test my two level method\n",
    "\"\"\"\n",
    "x = B_TL_symmetric(testmat,c_factor=1.5)\n",
    "print(x)"
   ],
   "metadata": {
    "collapsed": false,
    "ExecuteTime": {
     "start_time": "2023-06-06T14:11:40.922601Z",
     "end_time": "2023-06-06T14:11:41.079225Z"
    }
   }
  }
 ],
 "metadata": {
  "kernelspec": {
   "display_name": "Python 3",
   "language": "python",
   "name": "python3"
  },
  "language_info": {
   "codemirror_mode": {
    "name": "ipython",
    "version": 2
   },
   "file_extension": ".py",
   "mimetype": "text/x-python",
   "name": "python",
   "nbconvert_exporter": "python",
   "pygments_lexer": "ipython2",
   "version": "2.7.6"
  }
 },
 "nbformat": 4,
 "nbformat_minor": 0
}
