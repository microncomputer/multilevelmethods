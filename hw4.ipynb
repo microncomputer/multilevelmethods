{
 "cells": [
  {
   "cell_type": "code",
   "execution_count": 1,
   "metadata": {
    "collapsed": true,
    "ExecuteTime": {
     "start_time": "2023-06-09T11:15:19.458926Z",
     "end_time": "2023-06-09T11:15:21.128318Z"
    }
   },
   "outputs": [],
   "source": [
    "import numpy as np\n",
    "from scipy.sparse import csr_matrix, coo_matrix, triu, tril, hstack\n",
    "from scipy.sparse.linalg import spsolve\n",
    "import graphrelations as gr\n",
    "from iterativemethods import *\n",
    "from aggregation_coarsening import *\n",
    "from multilevelmethod import *\n"
   ]
  },
  {
   "cell_type": "code",
   "execution_count": 2,
   "outputs": [],
   "source": [
    "testmat = np.zeros((8,8))\n",
    "is_edge = [(1,5),(2,4), (2,8), (3,5),(4,2), (4,6), (5,1), (5,3), (5,6), (5,7), (6,4), (6,5), (6,8), (7,5), (8,2), (8,6)]\n",
    "for i,j in is_edge:\n",
    "    testmat[i-1,j-1] = 1\n",
    "testmat = coo_matrix(testmat)\n",
    "ev = gr.EV(testmat)\n",
    "ee = gr.EE(ev)"
   ],
   "metadata": {
    "collapsed": false,
    "ExecuteTime": {
     "start_time": "2023-06-09T11:15:21.137328Z",
     "end_time": "2023-06-09T11:15:21.144319Z"
    }
   }
  },
  {
   "cell_type": "code",
   "execution_count": 3,
   "outputs": [
    {
     "name": "stdout",
     "output_type": "stream",
     "text": [
      "[-2.69800387e-06  7.30799612e-08 -2.69800387e-06  1.46159922e-07\n",
      " -2.69800387e-06 -8.24563958e-07 -3.32248384e-06  0.00000000e+00]\n",
      "[9.4999973  2.50000007 9.4999973  4.00000015 8.4999973  4.49999918\n",
      " 9.49999668 0.5       ]\n",
      "[9.5 2.5 9.5 4.  8.5 4.5 9.5 0.5]\n"
     ]
    },
    {
     "name": "stderr",
     "output_type": "stream",
     "text": [
      "D:\\LinearAlgebra\\multilevelmethods\\venv\\lib\\site-packages\\scipy\\sparse\\_index.py:146: SparseEfficiencyWarning: Changing the sparsity structure of a csr_matrix is expensive. lil_matrix is more efficient.\n",
      "  self._set_arrayXarray(i, j, x)\n"
     ]
    }
   ],
   "source": [
    "testb = np.ones(testmat.shape[0])\n",
    "x = B_TL_symmetric(testmat, b=testb ,c_factor=1.5, max_iter=100000)\n",
    "\n",
    "\n",
    "A = Laplacian(testmat)\n",
    "\n",
    "# make last row and column zeros to make it invertible, leave diagonal\n",
    "# altering sparsity structure of csr, coo is expensive so ideally this will\n",
    "# be updated someday to use a lil matrix or something else..\n",
    "# must eliminate zeros or they stay in the nonzero data\n",
    "A[A.shape[0] - 1, :-1] = 0\n",
    "A[:-1, A.shape[0] - 1] = 0\n",
    "A.eliminate_zeros()\n",
    "\n",
    "xcompare = spsolve(A, testb)\n",
    "print(x[0]-xcompare)\n",
    "print(x[0])\n",
    "print(xcompare)"
   ],
   "metadata": {
    "collapsed": false,
    "ExecuteTime": {
     "start_time": "2023-06-09T11:15:21.150345Z",
     "end_time": "2023-06-09T11:15:21.195315Z"
    }
   }
  },
  {
   "cell_type": "code",
   "execution_count": 7,
   "outputs": [
    {
     "name": "stdout",
     "output_type": "stream",
     "text": [
      "(array([9.4999973 , 2.50000007, 9.4999973 , 4.00000015, 8.4999973 ,\n",
      "       4.49999918, 9.49999668, 0.5       ]), 8, 3.547484117641209, 1.7451390701251666e-06)\n"
     ]
    }
   ],
   "source": [
    "print(x)"
   ],
   "metadata": {
    "collapsed": false,
    "ExecuteTime": {
     "start_time": "2023-06-09T11:15:42.743174Z",
     "end_time": "2023-06-09T11:15:42.786170Z"
    }
   }
  },
  {
   "cell_type": "code",
   "execution_count": 8,
   "outputs": [],
   "source": [
    "from scipy.io import mmread\n",
    "\n",
    "matrix = mmread('Graphs/cocktail.mtx')\n",
    "with open('Graphs/cocktail_labels.txt') as file:\n",
    "    labels = file.read().splitlines()"
   ],
   "metadata": {
    "collapsed": false,
    "ExecuteTime": {
     "start_time": "2023-06-09T11:16:58.606413Z",
     "end_time": "2023-06-09T11:16:58.632443Z"
    }
   }
  },
  {
   "cell_type": "code",
   "execution_count": 9,
   "outputs": [],
   "source": [
    "# this cocktail.mtx matrix is not an adjacency matrix but\n",
    "# a relation of cocktails to ingredients\n",
    "# getting the adjacency of ingredient to ingredient with\n",
    "mat = matrix.T @ matrix"
   ],
   "metadata": {
    "collapsed": false,
    "ExecuteTime": {
     "start_time": "2023-06-09T11:16:59.760867Z",
     "end_time": "2023-06-09T11:16:59.772869Z"
    }
   }
  },
  {
   "cell_type": "code",
   "execution_count": 10,
   "outputs": [
    {
     "name": "stdout",
     "output_type": "stream",
     "text": [
      "(array([ 3.17201084e-07,  3.46862745e-07,  1.88710461e-07,  1.25355786e-07,\n",
      "        1.20157350e-08,  4.64978651e-07,  2.99439533e-07,  2.23598662e-07,\n",
      "        7.69873322e-07,  4.04432347e-07,  1.81149866e-06,  2.00772322e-06,\n",
      "        9.70239632e-07,  2.23423541e-06,  2.62183868e-06,  3.33280589e-06,\n",
      "        1.91021059e-06,  7.67324765e-08,  8.75832626e-08, -8.93734071e-07,\n",
      "       -1.65268401e-10,  4.54943442e-07,  8.53312897e-08,  1.53270391e-07,\n",
      "        5.48795893e-07,  2.57912962e-07,  4.38442323e-07,  9.40452099e-07,\n",
      "        5.76782112e-07,  6.95364787e-07,  7.03066223e-08, -3.14846196e-07,\n",
      "        1.19250935e-07, -7.96196943e-08,  5.37474713e-07,  1.21981533e-06,\n",
      "        9.30264829e-07,  1.31187875e-06,  1.40939089e-07,  2.43317671e-07,\n",
      "        2.30727564e-07,  2.76506251e-07,  4.23016883e-07,  5.71556173e-07,\n",
      "        2.66980607e-07,  1.50149126e-07, -4.13695515e-08,  1.01201323e-06,\n",
      "        1.20045905e-07,  2.09395593e-07,  3.49179011e-07,  3.47028713e-07,\n",
      "        9.74847414e-07,  1.14741920e-06,  1.70104406e-06,  1.77548053e-06,\n",
      "        1.04788023e-06,  6.14884322e-07,  1.01681375e-06,  3.51075917e-07,\n",
      "        2.78390092e-07,  4.30884046e-07,  4.30466502e-07,  3.60744743e-07,\n",
      "        1.80987529e-07,  4.51584643e-07,  4.56195793e-07,  4.60349723e-07,\n",
      "        4.94138108e-07, -1.72770224e-07, -1.29973038e-07,  5.05331253e-08,\n",
      "        2.07893164e-07, -1.79065370e-08,  4.01049871e-07,  4.53859311e-08,\n",
      "        3.77084618e-07, -1.71092066e-08,  3.40362953e-07,  1.03364631e-07,\n",
      "        4.81532138e-09,  3.29053808e-07,  2.13709361e-08,  2.22563030e-07,\n",
      "        5.21273972e-08,  1.05725895e-07,  9.63528203e-07,  4.69081801e-07,\n",
      "        1.08296157e-06,  4.13782982e-07,  1.21728381e-07,  2.42776448e-07,\n",
      "        3.77084618e-07,  3.37356577e-07,  1.18399675e-09,  8.18953627e-07,\n",
      "        8.51670433e-07,  8.83811379e-07,  6.31453675e-07,  9.75650980e-07,\n",
      "       -5.72636729e-08,  4.76600366e-07,  2.15343297e-07, -1.99946872e-09,\n",
      "        6.51826935e-07,  1.10468543e-07,  9.40821800e-08,  7.71194960e-08,\n",
      "        1.78856479e-08,  1.82477588e-08, -5.49968078e-09,  2.16524400e-07,\n",
      "        1.62055001e-07,  2.78700652e-07,  2.12560187e-07,  1.59955985e-07,\n",
      "       -9.17455091e-08, -3.86758941e-07,  5.22481867e-07, -5.92214722e-07,\n",
      "       -2.55960196e-07, -3.29164457e-08, -2.43362750e-07,  6.47575465e-07,\n",
      "        1.10597908e-06,  1.21375421e-06,  1.07356330e-07, -2.31762744e-07,\n",
      "        1.00002707e-06,  4.29903411e-07,  1.17782253e-06,  1.20423074e-06,\n",
      "        1.22707990e-06,  1.25069408e-06,  1.27536616e-06,  1.06982125e-06,\n",
      "        1.32066079e-06,  1.37045252e-06, -1.17422324e-07,  2.24784662e-07,\n",
      "        2.20296269e-07,  2.17221550e-07,  2.24318421e-07,  3.45802640e-07,\n",
      "        2.96223565e-07,  1.98397379e-07,  2.59253702e-07,  1.06249617e-06,\n",
      "        1.15885442e-06, -2.61637643e-08,  8.53730792e-07,  8.81015693e-07,\n",
      "        8.96146959e-07,  4.54237335e-07,  7.00961573e-07, -1.64050718e-07,\n",
      "       -9.67513461e-07, -1.25786485e-06, -7.67526837e-07,  7.25409836e-08,\n",
      "       -3.56656533e-07, -2.88683967e-07, -4.56737116e-07, -4.27232131e-07,\n",
      "       -7.84277923e-08,  1.69016794e-07, -5.97122948e-08,  3.54606340e-08,\n",
      "        3.34334276e-06,  2.47464792e-07,  9.64170200e-08,  3.54700688e-07,\n",
      "        3.55096511e-07, -1.58941151e-06, -1.78489919e-06, -2.10016127e-06,\n",
      "       -4.03946012e-07,  4.89375460e-07,  3.62701377e-07,  6.31582728e-07,\n",
      "        5.98569193e-07,  4.38192787e-07,  4.55926503e-07,  3.08664413e-07,\n",
      "        6.36290354e-07, -9.60766351e-07,  6.97788790e-07, -1.49353520e-07,\n",
      "       -1.31726457e-08,  8.42063688e-08,  2.63522409e-07, -1.47487064e-07,\n",
      "       -2.70359052e-07, -3.93846337e-07, -4.68718014e-07,  1.53335960e-07,\n",
      "        4.78541250e-08, -2.99751437e-07, -3.22477238e-07, -1.34495092e-07,\n",
      "        4.43625331e-06,  4.59887854e-06,  4.76777580e-06,  4.94832119e-06,\n",
      "        5.14627901e-06,  5.36797362e-06,  5.62047802e-06,  3.78596187e-10,\n",
      "       -3.13851043e-07, -7.56488752e-07,  4.73886299e-07, -1.09387895e-08,\n",
      "       -1.29625338e-07, -1.75839388e-07, -2.27361611e-07,  0.00000000e+00]), 14, 111.33264098348513, 6.6083146063022e-05)\n"
     ]
    }
   ],
   "source": [
    "testb2 = np.zeros(mat.shape[0])\n",
    "xTL = B_TL_symmetric(mat, b=testb2, c_factor = 4, max_iter=5000)\n",
    "print(xTL)"
   ],
   "metadata": {
    "collapsed": false,
    "ExecuteTime": {
     "start_time": "2023-06-09T11:17:01.802448Z",
     "end_time": "2023-06-09T11:17:02.506432Z"
    }
   }
  },
  {
   "cell_type": "code",
   "execution_count": 6,
   "outputs": [],
   "source": [],
   "metadata": {
    "collapsed": false,
    "ExecuteTime": {
     "start_time": "2023-06-09T11:15:22.151135Z",
     "end_time": "2023-06-09T11:15:22.192145Z"
    }
   }
  }
 ],
 "metadata": {
  "kernelspec": {
   "display_name": "Python 3",
   "language": "python",
   "name": "python3"
  },
  "language_info": {
   "codemirror_mode": {
    "name": "ipython",
    "version": 2
   },
   "file_extension": ".py",
   "mimetype": "text/x-python",
   "name": "python",
   "nbconvert_exporter": "python",
   "pygments_lexer": "ipython2",
   "version": "2.7.6"
  }
 },
 "nbformat": 4,
 "nbformat_minor": 0
}
