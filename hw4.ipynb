{
 "cells": [
  {
   "cell_type": "code",
   "execution_count": 2,
   "metadata": {
    "collapsed": true,
    "ExecuteTime": {
     "start_time": "2023-06-12T11:41:56.952974Z",
     "end_time": "2023-06-12T11:41:56.969975Z"
    }
   },
   "outputs": [],
   "source": [
    "import numpy as np\n",
    "from scipy.sparse import csr_matrix, coo_matrix, triu, tril, hstack\n",
    "from scipy.sparse.linalg import spsolve\n",
    "import graphrelations as gr\n",
    "from iterativemethods import *\n",
    "from aggregation_coarsening import *\n",
    "from multilevelmethod import *\n"
   ]
  },
  {
   "cell_type": "code",
   "execution_count": 3,
   "outputs": [],
   "source": [
    "testmat = np.zeros((8,8))\n",
    "is_edge = [(1,5),(2,4), (2,8), (3,5),(4,2), (4,6), (5,1), (5,3), (5,6), (5,7), (6,4), (6,5), (6,8), (7,5), (8,2), (8,6)]\n",
    "for i,j in is_edge:\n",
    "    testmat[i-1,j-1] = 1\n",
    "testmat = coo_matrix(testmat)\n",
    "ev = gr.EV(testmat)\n",
    "ee = gr.EE(ev)"
   ],
   "metadata": {
    "collapsed": false,
    "ExecuteTime": {
     "start_time": "2023-06-12T11:41:58.524842Z",
     "end_time": "2023-06-12T11:41:58.657942Z"
    }
   }
  },
  {
   "cell_type": "code",
   "execution_count": 4,
   "outputs": [
    {
     "name": "stderr",
     "output_type": "stream",
     "text": [
      "D:\\LinearAlgebra\\multilevelmethods\\venv\\lib\\site-packages\\scipy\\sparse\\_index.py:146: SparseEfficiencyWarning: Changing the sparsity structure of a csr_matrix is expensive. lil_matrix is more efficient.\n",
      "  self._set_arrayXarray(i, j, x)\n"
     ]
    }
   ],
   "source": [
    "testb = np.ones(testmat.shape[0])\n",
    "x_TL, itercount_TL, delta_0_TL, delta_TL = B_TL_symmetric(testmat, b=testb ,c_factor=1.5, max_iter=1000)\n"
   ],
   "metadata": {
    "collapsed": false,
    "ExecuteTime": {
     "start_time": "2023-06-12T11:42:05.557176Z",
     "end_time": "2023-06-12T11:42:05.844318Z"
    }
   }
  },
  {
   "cell_type": "code",
   "execution_count": 7,
   "outputs": [],
   "source": [
    "#computing the same with fgs to compare\n",
    "\n",
    "A = Laplacian(testmat)\n",
    "A[A.shape[0] - 1, :-1] = 0\n",
    "A[:-1, A.shape[0] - 1] = 0\n",
    "A.eliminate_zeros()\n",
    "\n",
    "x_fgs, itercount_fgs, delta_0_fgs, delta_fgs = stationary_it_method(A, testb ,sgs, max_iter=1000)"
   ],
   "metadata": {
    "collapsed": false,
    "ExecuteTime": {
     "start_time": "2023-06-12T11:42:56.065421Z",
     "end_time": "2023-06-12T11:42:56.149424Z"
    }
   }
  },
  {
   "cell_type": "code",
   "execution_count": 8,
   "outputs": [
    {
     "name": "stdout",
     "output_type": "stream",
     "text": [
      "[9.49999825 2.50000006 9.49999825 4.00000012 8.49999825 4.49999955\n",
      " 9.49999781 0.5       ]\n",
      "[9.49999463 2.49999904 9.49999463 3.99999808 8.49999463 4.49999733\n",
      " 9.49999418 0.5       ]\n"
     ]
    }
   ],
   "source": [
    "print(x_TL)\n",
    "print(x_fgs)"
   ],
   "metadata": {
    "collapsed": false,
    "ExecuteTime": {
     "start_time": "2023-06-12T11:43:40.891255Z",
     "end_time": "2023-06-12T11:43:40.999349Z"
    }
   }
  },
  {
   "cell_type": "code",
   "execution_count": 10,
   "outputs": [
    {
     "name": "stdout",
     "output_type": "stream",
     "text": [
      "Symmetric Two Level method converged in  8 iterations\n",
      "Forward Gauss Seidel method converged in  75 iterations\n"
     ]
    }
   ],
   "source": [
    "print(\"Symmetric Two Level method converged in \", itercount_TL, \"iterations\")\n",
    "print(\"Forward Gauss Seidel method converged in \", itercount_fgs, \"iterations\")"
   ],
   "metadata": {
    "collapsed": false,
    "ExecuteTime": {
     "start_time": "2023-06-12T11:45:31.978514Z",
     "end_time": "2023-06-12T11:45:32.003498Z"
    }
   }
  },
  {
   "cell_type": "code",
   "execution_count": 11,
   "outputs": [],
   "source": [
    "# Now we will do it with a larger matrix\n",
    "\n",
    "from scipy.io import mmread\n",
    "\n",
    "matrix = mmread('Graphs/cocktail.mtx')\n",
    "with open('Graphs/cocktail_labels.txt') as file:\n",
    "    labels = file.read().splitlines()"
   ],
   "metadata": {
    "collapsed": false,
    "ExecuteTime": {
     "start_time": "2023-06-12T11:48:10.140663Z",
     "end_time": "2023-06-12T11:48:10.512715Z"
    }
   }
  },
  {
   "cell_type": "code",
   "execution_count": 12,
   "outputs": [],
   "source": [
    "# this cocktail.mtx matrix is not an adjacency matrix but\n",
    "# a relation of cocktails to ingredients\n",
    "# getting the adjacency of ingredient to ingredient with\n",
    "mat = matrix.T @ matrix"
   ],
   "metadata": {
    "collapsed": false,
    "ExecuteTime": {
     "start_time": "2023-06-12T11:48:10.675765Z",
     "end_time": "2023-06-12T11:48:10.743758Z"
    }
   }
  },
  {
   "cell_type": "code",
   "execution_count": 18,
   "outputs": [
    {
     "name": "stderr",
     "output_type": "stream",
     "text": [
      "D:\\LinearAlgebra\\multilevelmethods\\venv\\lib\\site-packages\\scipy\\sparse\\_index.py:146: SparseEfficiencyWarning: Changing the sparsity structure of a csr_matrix is expensive. lil_matrix is more efficient.\n",
      "  self._set_arrayXarray(i, j, x)\n"
     ]
    }
   ],
   "source": [
    "testb2 = np.ones(mat.shape[0])\n",
    "x_TL, itercount_TL, delta_0_TL, delta_TL = B_TL_symmetric(mat, b=testb2 ,c_factor=2, max_iter=1000)"
   ],
   "metadata": {
    "collapsed": false,
    "ExecuteTime": {
     "start_time": "2023-06-12T11:53:08.629606Z",
     "end_time": "2023-06-12T11:53:09.113601Z"
    }
   }
  },
  {
   "cell_type": "code",
   "execution_count": 19,
   "outputs": [],
   "source": [
    "A = Laplacian(mat)\n",
    "A[A.shape[0] - 1, :-1] = 0\n",
    "A[:-1, A.shape[0] - 1] = 0\n",
    "A.eliminate_zeros()\n",
    "\n",
    "x_fgs, itercount_fgs, delta_0_fgs, delta_fgs = stationary_it_method(A, testb2 ,sgs, max_iter=1000)\n"
   ],
   "metadata": {
    "collapsed": false,
    "ExecuteTime": {
     "start_time": "2023-06-12T11:53:14.735162Z",
     "end_time": "2023-06-12T11:53:17.630163Z"
    }
   }
  },
  {
   "cell_type": "code",
   "execution_count": 20,
   "outputs": [
    {
     "name": "stdout",
     "output_type": "stream",
     "text": [
      "[29.94539378 29.88893718 29.92114461 29.91073443 30.16655232 29.91087765\n",
      " 29.82370996 29.90748576 29.95650894 29.88207594 30.16038786 30.16038786\n",
      " 29.94128077 30.16038788 30.03932375 30.13680838 29.97752791 29.81505211\n",
      " 30.01897856 29.85860918 29.27922983 29.94729761 29.86449199 29.85284303\n",
      " 29.94449872 29.88110068 29.93338669 29.93532712 30.06357303 29.86341443\n",
      " 29.87694697 30.20438114 29.97259175 30.00676189 29.00486476 29.92923872\n",
      " 29.96680606 29.95366958 29.85925982 29.88389735 29.99427138 29.92386756\n",
      " 30.13683268 29.96715045 29.93072091 30.14662205 29.92537476 29.9016495\n",
      " 29.90326697 29.96148059 29.84675803 29.89379445 29.83962032 29.91079417\n",
      " 29.92493433 30.05889726 30.05674947 29.92295051 29.76795907 29.97358416\n",
      " 29.89594118 30.03087982 30.02830059 30.00463509 29.75392564 29.98541581\n",
      " 29.98541579 29.98541578 29.96238523 29.81776621 29.84513118 29.90784813\n",
      " 29.90435339 30.01218284 30.17655552 29.99994295 30.459489   29.84919569\n",
      " 30.14459454 29.90400444 29.62799051 29.97749375 29.99220583 30.03492031\n",
      " 29.88351344 29.96962536 30.20023111 30.030561   30.20023108 29.95826176\n",
      " 29.84363054 29.95888297 30.459489   29.98799086 29.89566864 30.21817081\n",
      " 30.21817081 30.2181708  30.05667194 30.21817081 29.94665053 29.86505647\n",
      " 29.99701477 29.98696002 29.85792146 30.0284699  30.02846988 30.02846986\n",
      " 29.95808754 30.02846983 30.02846981 29.85266295 29.69385888 30.03876412\n",
      " 29.92194097 29.94532438 27.7038242  29.35462013 28.36680087 29.51275145\n",
      " 28.64527892 30.02300466 29.80162233 29.99726334 30.20529184 30.2052917\n",
      " 29.48373357 29.67657669 29.78846802 29.68967048 29.78119714 29.78119726\n",
      " 29.78119736 29.78119747 29.78119759 29.79517678 29.78119784 29.78119811\n",
      " 30.04775793 29.98969793 30.06716389 30.06716386 29.95824312 29.91650799\n",
      " 30.04549369 29.80665365 30.04549357 29.65404159 29.65404194 29.89755688\n",
      " 29.91089038 29.91089048 29.91089051 29.90586016 29.99651716 29.9774735\n",
      " 29.66599499 29.69250123 29.53512596 29.95125916 29.98884915 29.87304018\n",
      " 30.0082953  29.94590341 30.1853956  30.03153748 29.68880631 29.91490125\n",
      " 30.13077626 29.98196848 30.02731887 30.1694294  30.16942944 29.84400749\n",
      " 29.84400744 29.84400738 29.91863459 29.81696074 30.19595833 29.99658584\n",
      " 30.20863457 30.22215691 30.22215701 30.15411911 30.28292948 29.17045277\n",
      " 30.18073595 29.82800719 29.76934302 29.70246901 30.08266451 30.22311359\n",
      " 30.22311347 29.96397688 29.96397678 30.04646439 30.09402156 30.09678994\n",
      " 30.08383582 29.98700376 30.180861   30.180861   30.180861   30.180861\n",
      " 30.180861   30.18086101 30.18086101 30.15726623 29.83940017 29.78811174\n",
      " 29.90463391 29.91353069 23.99999998 24.00000004 24.00000012  0.125     ]\n",
      "[29.73397252 29.67779072 29.70973814 29.69937037 29.95419542 29.69956177\n",
      " 29.61292675 29.69610144 29.74487857 29.67092035 29.94824246 29.94815473\n",
      " 29.7298235  29.94797493 29.82734187 29.92427705 29.76581555 29.60442808\n",
      " 29.8076601  29.64867559 29.07237797 29.73578603 29.65333106 29.64170705\n",
      " 29.7329932  29.66981972 29.72180419 29.72382155 29.85159135 29.65225662\n",
      " 29.66576852 29.9923653  29.76104387 29.79578681 28.79980395 29.71787178\n",
      " 29.75556463 29.74261429 29.64816646 29.67269829 29.78232434 29.71220249\n",
      " 29.92478529 29.75567633 29.71902768 29.93464397 29.71374189 29.69015786\n",
      " 29.69169902 29.74962189 29.63551116 29.68217217 29.62859873 29.69918485\n",
      " 29.71354528 29.84668626 29.84468907 29.71292417 29.55769622 29.76197602\n",
      " 29.684332   29.81892561 29.81631184 29.79265032 29.54366039 29.77378397\n",
      " 29.77374893 29.77372557 29.75060296 29.60692614 29.63404211 29.69628661\n",
      " 29.69266096 29.80008643 29.96450811 29.78793266 30.24719795 29.63791625\n",
      " 29.93275403 29.69255249 29.4184873  29.76550512 29.78013455 29.82264085\n",
      " 29.67199808 29.75752756 29.98791315 29.81827735 29.98781512 29.74677477\n",
      " 29.63249079 29.74678    30.24719795 29.77678431 29.68400607 30.00579319\n",
      " 30.00571787 30.00566139 29.84464311 30.00558633 29.73493749 29.65371886\n",
      " 29.78666992 29.77480396 29.64676092 29.81617955 29.81615059 29.81612743\n",
      " 29.74596965 29.81608634 29.81608055 29.64145116 29.48371411 29.82682077\n",
      " 29.71020157 29.73372826 27.50811995 29.14751174 28.16639123 29.30429689\n",
      " 28.44260087 29.81086468 29.59056806 29.78539607 29.99299623 29.99296109\n",
      " 29.27609856 29.46650571 29.57773581 29.47961521 29.57074208 29.57071518\n",
      " 29.57069211 29.57067289 29.57065752 29.58442256 29.57063119 29.57062734\n",
      " 29.83566875 29.77753131 29.8549536  29.85492435 29.7463436  29.70482512\n",
      " 29.83364159 29.59601416 29.83358401 29.44731849 29.44723292 29.68577427\n",
      " 29.69963436 29.69961051 29.6995946  29.69424297 29.78483639 29.76530309\n",
      " 29.45696195 29.48305784 29.32637927 29.73960581 29.77775827 29.66150062\n",
      " 29.79607332 29.73412189 29.97328355 29.82021226 29.47883932 29.70345896\n",
      " 29.91816817 29.76979619 29.8153689  29.95713377 29.95709863 29.63415365\n",
      " 29.63411643 29.63409782 29.70704424 29.60598041 29.98369141 29.78466709\n",
      " 29.99629203 30.01034876 30.01029617 29.94192861 30.07062882 28.96526068\n",
      " 29.96886001 29.61750256 29.55932684 29.49291412 29.87037946 30.01092312\n",
      " 30.01087043 29.75302337 29.75299843 29.83428635 29.88177648 29.88500575\n",
      " 29.87182296 29.77522262 29.96810015 29.9680595  29.96802563 29.96799853\n",
      " 29.9679782  29.96796465 29.96795787 29.94499905 29.62819753 29.57928709\n",
      " 29.69350103 29.70182512 23.83103425 23.83101094 23.83099929  0.125     ]\n",
      "Symmetric Two Level method converged in  11 iterations\n",
      "Forward Gauss Seidel method converged in  999 iterations\n"
     ]
    }
   ],
   "source": [
    "print(x_TL)\n",
    "print(x_fgs)\n",
    "print(\"Symmetric Two Level method converged in \", itercount_TL, \"iterations\")\n",
    "print(\"Forward Gauss Seidel method converged in \", itercount_fgs, \"iterations\")"
   ],
   "metadata": {
    "collapsed": false,
    "ExecuteTime": {
     "start_time": "2023-06-12T11:53:17.630163Z",
     "end_time": "2023-06-12T11:53:17.684163Z"
    }
   }
  },
  {
   "cell_type": "code",
   "execution_count": null,
   "outputs": [],
   "source": [],
   "metadata": {
    "collapsed": false
   }
  }
 ],
 "metadata": {
  "kernelspec": {
   "display_name": "Python 3",
   "language": "python",
   "name": "python3"
  },
  "language_info": {
   "codemirror_mode": {
    "name": "ipython",
    "version": 2
   },
   "file_extension": ".py",
   "mimetype": "text/x-python",
   "name": "python",
   "nbconvert_exporter": "python",
   "pygments_lexer": "ipython2",
   "version": "2.7.6"
  }
 },
 "nbformat": 4,
 "nbformat_minor": 0
}
