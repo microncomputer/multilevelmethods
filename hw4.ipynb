{
 "cells": [
  {
   "cell_type": "code",
   "execution_count": 1,
   "metadata": {
    "collapsed": true,
    "ExecuteTime": {
     "start_time": "2023-06-06T14:33:03.084531Z",
     "end_time": "2023-06-06T14:33:03.740546Z"
    }
   },
   "outputs": [],
   "source": [
    "import numpy as np\n",
    "from scipy.sparse import csr_matrix, coo_matrix, triu, tril, hstack\n",
    "import graphrelations as gr\n",
    "from iterativemethods import *\n",
    "from aggregation_coarsening import *\n",
    "from multilevelmethod import *\n"
   ]
  },
  {
   "cell_type": "code",
   "execution_count": 2,
   "outputs": [],
   "source": [
    "testmat = np.zeros((8,8))\n",
    "is_edge = [(1,5),(2,4), (2,8), (3,5),(4,2), (4,6), (5,1), (5,3), (5,6), (5,7), (6,4), (6,5), (6,8), (7,5), (8,2), (8,6)]\n",
    "for i,j in is_edge:\n",
    "    testmat[i-1,j-1] = 1\n",
    "testmat = coo_matrix(testmat)\n",
    "ev = gr.EV(testmat)\n",
    "ee = gr.EE(ev)"
   ],
   "metadata": {
    "collapsed": false,
    "ExecuteTime": {
     "start_time": "2023-06-06T14:33:03.754697Z",
     "end_time": "2023-06-06T14:33:03.781550Z"
    }
   }
  },
  {
   "cell_type": "code",
   "execution_count": 3,
   "outputs": [
    {
     "name": "stdout",
     "output_type": "stream",
     "text": [
      "[4.50561452 1.29929473 4.82160698 2.4336123  3.82865677 2.1815007\n",
      " 4.72018546 0.1454469 ]\n"
     ]
    },
    {
     "name": "stderr",
     "output_type": "stream",
     "text": [
      "D:\\LinearAlgebra\\multilevelmethods\\venv\\lib\\site-packages\\scipy\\sparse\\_index.py:146: SparseEfficiencyWarning: Changing the sparsity structure of a csr_matrix is expensive. lil_matrix is more efficient.\n",
      "  self._set_arrayXarray(i, j, x)\n"
     ]
    }
   ],
   "source": [
    "x = B_TL_symmetric(testmat,c_factor=1.5)\n",
    "print(x)"
   ],
   "metadata": {
    "collapsed": false,
    "ExecuteTime": {
     "start_time": "2023-06-06T14:33:03.784481Z",
     "end_time": "2023-06-06T14:33:03.906048Z"
    }
   }
  },
  {
   "cell_type": "code",
   "execution_count": 5,
   "outputs": [],
   "source": [
    "from scipy.io import mmread\n",
    "\n",
    "matrix = mmread('Graphs/cocktail.mtx')\n",
    "with open('Graphs/cocktail_labels.txt') as file:\n",
    "    labels = file.read().splitlines()"
   ],
   "metadata": {
    "collapsed": false,
    "ExecuteTime": {
     "start_time": "2023-06-06T14:35:30.475971Z",
     "end_time": "2023-06-06T14:35:31.084641Z"
    }
   }
  },
  {
   "cell_type": "code",
   "execution_count": 6,
   "outputs": [],
   "source": [
    "# this cocktail.mtx matrix is not an adjacency matrix but\n",
    "# a relation of cocktails to ingredients\n",
    "# getting the adjacency of ingredient to ingredient with\n",
    "mat = matrix.T @ matrix"
   ],
   "metadata": {
    "collapsed": false,
    "ExecuteTime": {
     "start_time": "2023-06-06T14:35:32.535656Z",
     "end_time": "2023-06-06T14:35:32.611999Z"
    }
   }
  },
  {
   "cell_type": "code",
   "execution_count": 7,
   "outputs": [
    {
     "name": "stdout",
     "output_type": "stream",
     "text": [
      "[14.47874459 14.4765799  14.49112135 14.47481191 14.49808476 14.46319468\n",
      " 14.44726396 14.48417722 14.45703037 14.43472043 14.59609188 14.63754385\n",
      " 14.51268096 14.58979167 14.50008511 14.50410324 14.47882369 14.45527302\n",
      " 14.50156359 14.57349012 14.22625985 14.50506325 14.47556815 14.47973732\n",
      " 14.49108203 14.49367567 14.48531155 14.49805656 14.52560139 14.51882309\n",
      " 14.48980927 14.75955699 14.44170944 14.42282996 14.10890067 14.50985625\n",
      " 14.63972887 14.73696436 14.47050197 14.50215295 14.44632204 14.47749567\n",
      " 14.58945152 14.52315695 14.50700413 14.62827525 14.53757643 14.50024607\n",
      " 14.45437921 14.46700466 14.50553102 14.54261225 14.49653167 14.4661759\n",
      " 14.47122437 14.53203152 14.63466463 14.5598103  14.50734586 14.47674867\n",
      " 14.44486831 14.54827498 14.60921673 14.57825048 14.53432737 14.48567615\n",
      " 14.48517066 14.48660347 14.40042056 14.44725204 14.4032172  14.42919174\n",
      " 14.41355392 14.4708769  14.73468433 14.50671427 14.71472769 14.43202318\n",
      " 14.5432402  14.45424976 14.43810928 14.48740739 14.52670693 14.49867615\n",
      " 14.39846014 14.38805668 14.48996498 14.43900052 14.52315282 14.47506302\n",
      " 14.44348868 14.43224038 14.58587273 14.43082277 14.49805647 14.64739693\n",
      " 14.74103541 14.67502986 14.53078833 14.72749332 14.38143395 14.50066764\n",
      " 14.85663057 14.5220861  14.54158045 14.61061821 14.66687057 14.66655269\n",
      " 14.50846986 14.67221855 14.69097896 14.47739803 14.40798426 14.52599454\n",
      " 14.4355934  14.64855163 13.64832387 14.48526362 13.96424591 14.55790526\n",
      " 14.01727183 14.45316499 14.49225822 14.50038559 14.73878505 14.84768148\n",
      " 14.59360588 14.52862303 14.49804975 14.58337838 14.54402933 14.56487044\n",
      " 14.6329441  14.59269738 14.55604042 14.54548194 14.58357487 14.53178881\n",
      " 14.47298156 14.42386    14.34845483 14.28820414 14.44441658 14.44782909\n",
      " 14.64981888 14.62449546 14.59577985 14.5798259  14.47259609 14.42738131\n",
      " 14.40575372 14.44887348 14.46730911 14.40377253 14.41486254 14.47463183\n",
      " 14.67747725 14.67877934 14.57326045 14.41048531 14.45765663 14.50155051\n",
      " 14.52075208 14.57037326 14.29103291 14.60282666 14.47482862 14.53454214\n",
      " 14.48282496 14.51932809 14.63979057 14.63850836 14.48683478 14.68372923\n",
      " 14.64022977 14.57667959 14.53572556 14.43895728 14.73550526 14.42367531\n",
      " 14.77340417 14.88334572 14.81607223 14.60535437 14.66157182 14.66005261\n",
      " 14.67594628 14.48467744 14.36604766 14.77613241 14.32087026 14.66614811\n",
      " 14.54341757 14.64356414 14.59570903 14.46011479 14.50496678 14.54300492\n",
      " 14.35391911 14.59842928 14.46151813 14.45913709 14.44405384 14.47666338\n",
      " 14.48240016 14.51881435 14.49016145 14.4593163  14.40264976 14.73508734\n",
      " 14.40334425 14.60276706 12.27268498 12.19042948 12.09468228  0.07254053]\n"
     ]
    }
   ],
   "source": [
    "xTL = B_TL_symmetric(mat, c_factor = 4)\n",
    "print(xTL)"
   ],
   "metadata": {
    "collapsed": false,
    "ExecuteTime": {
     "start_time": "2023-06-06T14:36:35.182903Z",
     "end_time": "2023-06-06T14:36:36.045381Z"
    }
   }
  },
  {
   "cell_type": "code",
   "execution_count": null,
   "outputs": [],
   "source": [],
   "metadata": {
    "collapsed": false
   }
  }
 ],
 "metadata": {
  "kernelspec": {
   "display_name": "Python 3",
   "language": "python",
   "name": "python3"
  },
  "language_info": {
   "codemirror_mode": {
    "name": "ipython",
    "version": 2
   },
   "file_extension": ".py",
   "mimetype": "text/x-python",
   "name": "python",
   "nbconvert_exporter": "python",
   "pygments_lexer": "ipython2",
   "version": "2.7.6"
  }
 },
 "nbformat": 4,
 "nbformat_minor": 0
}
