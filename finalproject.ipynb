{
 "cells": [
  {
   "cell_type": "code",
   "execution_count": 1,
   "metadata": {
    "collapsed": true,
    "ExecuteTime": {
     "start_time": "2023-06-16T11:32:05.102544Z",
     "end_time": "2023-06-16T11:32:06.155540Z"
    }
   },
   "outputs": [],
   "source": [
    "import numpy as np\n",
    "from scipy.sparse import csr_matrix, coo_matrix, triu, tril, hstack\n",
    "from scipy.sparse import diags as dg\n",
    "from scipy.sparse.linalg import spsolve\n",
    "import graphrelations as gr\n",
    "from iterativemethods import *\n",
    "from aggregation_coarsening import *\n",
    "from multilevelmethod import *\n",
    "from conjugategradient import *\n",
    "import pandas as pd"
   ]
  },
  {
   "cell_type": "code",
   "execution_count": null,
   "outputs": [],
   "source": [
    "testmat = np.zeros((8,8))\n",
    "is_edge = [(1,5),(2,4), (2,8), (3,5),(4,2), (4,6), (5,1), (5,3), (5,6), (5,7), (6,4), (6,5), (6,8), (7,5), (8,2), (8,6)]\n",
    "for i,j in is_edge:\n",
    "    testmat[i-1,j-1] = 1\n",
    "testmat = coo_matrix(testmat)\n",
    "ev = gr.EV(testmat)\n",
    "ee = gr.EE(ev)"
   ],
   "metadata": {
    "collapsed": false,
    "ExecuteTime": {
     "start_time": "2023-06-16T11:05:30.933876Z",
     "end_time": "2023-06-16T11:05:30.983161Z"
    }
   }
  },
  {
   "cell_type": "code",
   "execution_count": null,
   "outputs": [],
   "source": [
    "testb = np.ones(testmat.shape[0])"
   ],
   "metadata": {
    "collapsed": false,
    "ExecuteTime": {
     "start_time": "2023-06-16T11:05:31.700471Z",
     "end_time": "2023-06-16T11:05:31.721473Z"
    }
   }
  },
  {
   "cell_type": "code",
   "execution_count": null,
   "outputs": [],
   "source": [
    "#first building the special laplacian\n",
    "\n",
    "A = Laplacian(testmat, modifiedSPD=True)\n",
    "\n",
    "x_sgs, itercount_sgs, delta_0_sgs, delta_sgs = PCG(A, b=testb, smoother=sgs)\n",
    "x_L1, itercount_L1, delta_0_L1, delta_L1 = PCG(A, b=testb, smoother=L_1)\n",
    "x_diag, itercount_diag, delta_0_diag, delta_diag = PCG(A, b=testb, smoother='diag')\n",
    "x_TL, itercount_TL, delta_0_TL, delta_TL = PCG(A, b=testb, smoother=B_TL_symmetric)\n",
    "\n",
    "itercounts = [[itercount_sgs, itercount_L1, itercount_diag, itercount_TL]]\n",
    "df = pd.DataFrame(itercounts, columns = ['SGS', 'L1', 'diagonal', 'Sym Two Level'], index=['iterations to converge'])\n",
    "print(df)"
   ],
   "metadata": {
    "collapsed": false,
    "ExecuteTime": {
     "start_time": "2023-06-16T10:45:59.274602Z",
     "end_time": "2023-06-16T10:45:59.750593Z"
    }
   }
  },
  {
   "cell_type": "code",
   "execution_count": 2,
   "outputs": [],
   "source": [
    "# Now we will do it with a larger matrix\n",
    "\n",
    "from scipy.io import mmread\n",
    "\n",
    "matrix = mmread('Graphs/cocktail.mtx')\n",
    "with open('Graphs/cocktail_labels.txt') as file:\n",
    "    labels = file.read().splitlines()"
   ],
   "metadata": {
    "collapsed": false,
    "ExecuteTime": {
     "start_time": "2023-06-16T11:32:11.697540Z",
     "end_time": "2023-06-16T11:32:11.778568Z"
    }
   }
  },
  {
   "cell_type": "code",
   "execution_count": 3,
   "outputs": [],
   "source": [
    "# this cocktail.mtx matrix is not an adjacency matrix but\n",
    "# a relation of cocktails to ingredients\n",
    "# getting the adjacency of ingredient to ingredient with\n",
    "mat = matrix.T @ matrix"
   ],
   "metadata": {
    "collapsed": false,
    "ExecuteTime": {
     "start_time": "2023-06-16T11:32:14.397273Z",
     "end_time": "2023-06-16T11:32:14.428315Z"
    }
   }
  },
  {
   "cell_type": "code",
   "execution_count": 4,
   "outputs": [
    {
     "name": "stderr",
     "output_type": "stream",
     "text": [
      "D:\\LinearAlgebra\\multilevelmethods\\venv\\lib\\site-packages\\scipy\\sparse\\_index.py:146: SparseEfficiencyWarning: Changing the sparsity structure of a csr_matrix is expensive. lil_matrix is more efficient.\n",
      "  self._set_arrayXarray(i, j, x)\n",
      "D:\\LinearAlgebra\\multilevelmethods\\venv\\lib\\site-packages\\scipy\\sparse\\linalg\\_dsolve\\linsolve.py:640: SparseEfficiencyWarning: CSR matrix format is required. Converting to CSR matrix.\n",
      "  warn('CSR matrix format is required. Converting to CSR matrix.',\n",
      "D:\\LinearAlgebra\\multilevelmethods\\venv\\lib\\site-packages\\scipy\\sparse\\linalg\\_dsolve\\linsolve.py:214: SparseEfficiencyWarning: spsolve requires A be CSC or CSR matrix format\n",
      "  warn('spsolve requires A be CSC or CSR matrix format',\n"
     ]
    },
    {
     "name": "stdout",
     "output_type": "stream",
     "text": [
      "                        SGS  L1  diagonal  Sym Two Level\n",
      "iterations to converge    6   0       995             25\n"
     ]
    }
   ],
   "source": [
    "#first building the special laplacian\n",
    "\n",
    "A2 = Laplacian(mat, modifiedSPD=True)\n",
    "testb2 = np.ones(mat.shape[0])\n",
    "\n",
    "x_sgs, itercount_sgs, delta_0_sgs, delta_sgs = PCG(A2, b=testb2, smoother=sgs)\n",
    "x_L1, itercount_L1, delta_0_L1, delta_L1 = PCG(A2, b=testb2, smoother=L_1)\n",
    "x_diag, itercount_diag, delta_0_diag, delta_diag = PCG(A2, b=testb2, smoother='diag')\n",
    "x_TL, itercount_TL, delta_0_TL, delta_TL = PCG(A2, b=testb2, smoother=B_TL_symmetric)\n",
    "\n",
    "itercounts = [[itercount_sgs, itercount_L1, itercount_diag, itercount_TL]]\n",
    "df = pd.DataFrame(itercounts, columns = ['SGS', 'L1', 'diagonal', 'Sym Two Level'], index=['iterations to converge'])\n",
    "print(df)\n"
   ],
   "metadata": {
    "collapsed": false,
    "ExecuteTime": {
     "start_time": "2023-06-16T11:32:15.717771Z",
     "end_time": "2023-06-16T11:32:24.578794Z"
    }
   }
  },
  {
   "cell_type": "code",
   "execution_count": null,
   "outputs": [],
   "source": [],
   "metadata": {
    "collapsed": false
   }
  }
 ],
 "metadata": {
  "kernelspec": {
   "display_name": "Python 3",
   "language": "python",
   "name": "python3"
  },
  "language_info": {
   "codemirror_mode": {
    "name": "ipython",
    "version": 2
   },
   "file_extension": ".py",
   "mimetype": "text/x-python",
   "name": "python",
   "nbconvert_exporter": "python",
   "pygments_lexer": "ipython2",
   "version": "2.7.6"
  }
 },
 "nbformat": 4,
 "nbformat_minor": 0
}
