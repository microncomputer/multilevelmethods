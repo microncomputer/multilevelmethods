{
 "cells": [
  {
   "cell_type": "code",
   "execution_count": 1,
   "metadata": {
    "collapsed": true,
    "ExecuteTime": {
     "start_time": "2023-06-12T13:10:06.611067Z",
     "end_time": "2023-06-12T13:10:07.391135Z"
    }
   },
   "outputs": [],
   "source": [
    "import numpy as np\n",
    "from scipy.sparse import csr_matrix, coo_matrix, triu, tril, hstack\n",
    "from scipy.sparse.linalg import spsolve\n",
    "import graphrelations as gr\n",
    "from iterativemethods import *\n",
    "from aggregation_coarsening import *\n",
    "from multilevelmethod import *\n",
    "from conjugategradient import *\n"
   ]
  },
  {
   "cell_type": "code",
   "execution_count": 2,
   "outputs": [],
   "source": [
    "testmat = np.zeros((8,8))\n",
    "is_edge = [(1,5),(2,4), (2,8), (3,5),(4,2), (4,6), (5,1), (5,3), (5,6), (5,7), (6,4), (6,5), (6,8), (7,5), (8,2), (8,6)]\n",
    "for i,j in is_edge:\n",
    "    testmat[i-1,j-1] = 1\n",
    "testmat = coo_matrix(testmat)\n",
    "ev = gr.EV(testmat)\n",
    "ee = gr.EE(ev)"
   ],
   "metadata": {
    "collapsed": false,
    "ExecuteTime": {
     "start_time": "2023-06-12T13:10:07.397700Z",
     "end_time": "2023-06-12T13:10:07.406495Z"
    }
   }
  },
  {
   "cell_type": "code",
   "execution_count": 3,
   "outputs": [],
   "source": [
    "testb = np.ones(testmat.shape[0])"
   ],
   "metadata": {
    "collapsed": false,
    "ExecuteTime": {
     "start_time": "2023-06-12T13:10:07.409494Z",
     "end_time": "2023-06-12T13:10:07.450759Z"
    }
   }
  },
  {
   "cell_type": "code",
   "execution_count": 4,
   "outputs": [
    {
     "name": "stdout",
     "output_type": "stream",
     "text": [
      "1\n",
      "2\n",
      "3\n",
      "4\n",
      "5\n",
      "6\n",
      "7\n",
      "8\n",
      "9\n",
      "10\n",
      "11\n",
      "12\n"
     ]
    },
    {
     "name": "stderr",
     "output_type": "stream",
     "text": [
      "D:\\LinearAlgebra\\multilevelmethods\\venv\\lib\\site-packages\\scipy\\sparse\\_index.py:146: SparseEfficiencyWarning: Changing the sparsity structure of a csr_matrix is expensive. lil_matrix is more efficient.\n",
      "  self._set_arrayXarray(i, j, x)\n"
     ]
    }
   ],
   "source": [
    "#computing the preconditioned CG with fgs\n",
    "#first building the special laplacian\n",
    "\n",
    "A = Laplacian(testmat)\n",
    "A[A.shape[0] - 1, :-1] = 0\n",
    "A[:-1, A.shape[0] - 1] = 0\n",
    "A.eliminate_zeros()\n",
    "\n",
    "x_fgs, itercount_fgs, delta_0_fgs, delta_fgs = PCG(A, b=testb)"
   ],
   "metadata": {
    "collapsed": false,
    "ExecuteTime": {
     "start_time": "2023-06-12T11:42:56.065421Z",
     "end_time": "2023-06-12T11:42:56.149424Z"
    }
   }
  },
  {
   "cell_type": "code",
   "execution_count": 7,
   "outputs": [
    {
     "name": "stdout",
     "output_type": "stream",
     "text": [
      "[ 9.52129217  4.93510531  8.62724867  6.23591807  9.13889863  5.13624952\n",
      " 11.40804423  0.57409782]\n"
     ]
    }
   ],
   "source": [
    "print(x_fgs)"
   ],
   "metadata": {
    "collapsed": false,
    "ExecuteTime": {
     "start_time": "2023-06-12T13:11:54.048858Z",
     "end_time": "2023-06-12T13:11:54.069317Z"
    }
   }
  },
  {
   "cell_type": "code",
   "execution_count": 6,
   "outputs": [
    {
     "ename": "NameError",
     "evalue": "name 'itercount_TL' is not defined",
     "output_type": "error",
     "traceback": [
      "\u001B[1;31m---------------------------------------------------------------------------\u001B[0m",
      "\u001B[1;31mNameError\u001B[0m                                 Traceback (most recent call last)",
      "Cell \u001B[1;32mIn[6], line 1\u001B[0m\n\u001B[1;32m----> 1\u001B[0m \u001B[38;5;28mprint\u001B[39m(\u001B[38;5;124m\"\u001B[39m\u001B[38;5;124mSymmetric Two Level method converged in \u001B[39m\u001B[38;5;124m\"\u001B[39m, \u001B[43mitercount_TL\u001B[49m, \u001B[38;5;124m\"\u001B[39m\u001B[38;5;124miterations\u001B[39m\u001B[38;5;124m\"\u001B[39m)\n\u001B[0;32m      2\u001B[0m \u001B[38;5;28mprint\u001B[39m(\u001B[38;5;124m\"\u001B[39m\u001B[38;5;124mForward Gauss Seidel method converged in \u001B[39m\u001B[38;5;124m\"\u001B[39m, itercount_fgs, \u001B[38;5;124m\"\u001B[39m\u001B[38;5;124miterations\u001B[39m\u001B[38;5;124m\"\u001B[39m)\n",
      "\u001B[1;31mNameError\u001B[0m: name 'itercount_TL' is not defined"
     ]
    }
   ],
   "source": [
    "print(\"Symmetric Two Level method converged in \", itercount_TL, \"iterations\")\n",
    "print(\"Forward Gauss Seidel method converged in \", itercount_fgs, \"iterations\")"
   ],
   "metadata": {
    "collapsed": false,
    "ExecuteTime": {
     "start_time": "2023-06-12T11:45:31.978514Z",
     "end_time": "2023-06-12T11:45:32.003498Z"
    }
   }
  },
  {
   "cell_type": "code",
   "execution_count": null,
   "outputs": [],
   "source": [
    "# Now we will do it with a larger matrix\n",
    "\n",
    "from scipy.io import mmread\n",
    "\n",
    "matrix = mmread('Graphs/cocktail.mtx')\n",
    "with open('Graphs/cocktail_labels.txt') as file:\n",
    "    labels = file.read().splitlines()"
   ],
   "metadata": {
    "collapsed": false,
    "ExecuteTime": {
     "start_time": "2023-06-12T11:48:10.140663Z",
     "end_time": "2023-06-12T11:48:10.512715Z"
    }
   }
  },
  {
   "cell_type": "code",
   "execution_count": null,
   "outputs": [],
   "source": [
    "# this cocktail.mtx matrix is not an adjacency matrix but\n",
    "# a relation of cocktails to ingredients\n",
    "# getting the adjacency of ingredient to ingredient with\n",
    "mat = matrix.T @ matrix"
   ],
   "metadata": {
    "collapsed": false,
    "ExecuteTime": {
     "start_time": "2023-06-12T11:48:10.675765Z",
     "end_time": "2023-06-12T11:48:10.743758Z"
    }
   }
  },
  {
   "cell_type": "code",
   "execution_count": null,
   "outputs": [],
   "source": [
    "testb2 = np.ones(mat.shape[0])\n",
    "x_TL, itercount_TL, delta_0_TL, delta_TL = B_TL_symmetric(mat, b=testb2 ,c_factor=2, max_iter=1000)"
   ],
   "metadata": {
    "collapsed": false,
    "ExecuteTime": {
     "start_time": "2023-06-12T11:53:08.629606Z",
     "end_time": "2023-06-12T11:53:09.113601Z"
    }
   }
  },
  {
   "cell_type": "code",
   "execution_count": null,
   "outputs": [],
   "source": [
    "A = Laplacian(mat)\n",
    "A[A.shape[0] - 1, :-1] = 0\n",
    "A[:-1, A.shape[0] - 1] = 0\n",
    "A.eliminate_zeros()\n",
    "\n",
    "x_fgs, itercount_fgs, delta_0_fgs, delta_fgs = stationary_it_method(A, testb2 ,sgs, max_iter=1000)\n"
   ],
   "metadata": {
    "collapsed": false,
    "ExecuteTime": {
     "start_time": "2023-06-12T11:53:14.735162Z",
     "end_time": "2023-06-12T11:53:17.630163Z"
    }
   }
  },
  {
   "cell_type": "code",
   "execution_count": null,
   "outputs": [],
   "source": [
    "print(x_TL)\n",
    "print(x_fgs)\n",
    "print(\"Symmetric Two Level method converged in \", itercount_TL, \"iterations\")\n",
    "print(\"Forward Gauss Seidel method converged in \", itercount_fgs, \"iterations\")"
   ],
   "metadata": {
    "collapsed": false,
    "ExecuteTime": {
     "start_time": "2023-06-12T11:53:17.630163Z",
     "end_time": "2023-06-12T11:53:17.684163Z"
    }
   }
  },
  {
   "cell_type": "code",
   "execution_count": null,
   "outputs": [],
   "source": [],
   "metadata": {
    "collapsed": false
   }
  }
 ],
 "metadata": {
  "kernelspec": {
   "display_name": "Python 3",
   "language": "python",
   "name": "python3"
  },
  "language_info": {
   "codemirror_mode": {
    "name": "ipython",
    "version": 2
   },
   "file_extension": ".py",
   "mimetype": "text/x-python",
   "name": "python",
   "nbconvert_exporter": "python",
   "pygments_lexer": "ipython2",
   "version": "2.7.6"
  }
 },
 "nbformat": 4,
 "nbformat_minor": 0
}
